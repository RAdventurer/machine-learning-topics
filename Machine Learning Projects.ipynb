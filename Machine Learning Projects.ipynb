{
 "cells": [
  {
   "cell_type": "markdown",
   "id": "a369c188",
   "metadata": {},
   "source": [
    "Understand the business requirements and the nature of the available data.\n",
    "\n",
    "Classify the problem as supervised/unsupervised and regression/classification.\n",
    "\n",
    "Download, clean & explore the data and create new features that may improve models.\n",
    "\n",
    "Create training/test/validation sets and prepare the data for training ML models.\n",
    "\n",
    "Create a quick & easy baseline model to evaluate and benchmark future models.\n",
    "\n",
    "Pick a modeling strategy, train a model, and tune hyperparameters to achieve optimal fit.\n",
    "\n",
    "Experiment and combine results from multiple strategies to get a better result.\n",
    "\n",
    "Interpret models, study individual predictions, and present your findings."
   ]
  },
  {
   "cell_type": "code",
   "execution_count": 1,
   "id": "442cdac9",
   "metadata": {},
   "outputs": [],
   "source": [
    "import os\n",
    "import matplotlib\n",
    "import numpy as np\n",
    "import pandas as pd\n",
    "import matplotlib.pyplot as plt\n",
    "import seaborn as sns\n",
    "import plotly.express as px\n",
    "%matplotlib inline\n",
    "\n",
    "sns.set_style('darkgrid')\n",
    "matplotlib.rcParams['font.size'] = 14\n",
    "matplotlib.rcParams['figure.figsize'] = (10, 6)\n",
    "matplotlib.rcParams['figure.facecolor'] = '#00000000'"
   ]
  },
  {
   "cell_type": "markdown",
   "id": "a2ae3da4",
   "metadata": {},
   "source": [
    "### Understanding the Big Picture\n",
    "\n",
    "The first step in any machine learning problem is to read the given documentation, talk to various stakeholders and identify the following:\n",
    "\n",
    "1. What is the business problem you're trying to solve using machine learning?\n",
    "2. Why are we interested in solving this problem? What impact will it have on the business?\n",
    "3. How is this problem solved currently, without any machine learning tools?\n",
    "4. Who will use the results of this model, and how does it fit into other business processes?\n",
    "5. How much historical data do we have, and how was it collected?\n",
    "6. What features does the historical data contain? Does it contain the historical values for what we're trying to predict.\n",
    "7. What are some known issues with the data (data entry errors, missing data, differences in units etc.)\n",
    "8. Can we look at some sample rows from the dataset? How representative are they of the entire dataset.\n",
    "9. Where is the data stored and how will you get access to it?\n",
    "10. ...\n",
    "\n",
    "\n",
    "Gather as much information about the problem as possible, so that you're clear understanding of the objective and feasibility of the project."
   ]
  },
  {
   "cell_type": "markdown",
   "id": "23268fd8",
   "metadata": {},
   "source": [
    "# ///////////////////////////////////////////////////////"
   ]
  },
  {
   "cell_type": "markdown",
   "id": "8cf53a31",
   "metadata": {},
   "source": [
    "Evaluation Metrics Used in Regression Task\n",
    "#1 — RMSE (Root Mean Squared Error)\n",
    "\n",
    "#2 — RMSLE (Root Mean Squared Logarithmic Error)\n",
    "\n",
    "#3 — MAE (Mean Absolute Error)\n",
    "\n",
    "#4 — R-Squared (R²)\n",
    "\n",
    "Evaluation Metrics Used in 0/1 Prediction in Binary Classification Task\n",
    "#5 — Accuracy and Error Rate\n",
    "\n",
    "#6 — Precision and Recall\n",
    "\n",
    "#7 — F1-Score and Fbeta-Score\n",
    "\n",
    "#8 — MCC (Matthews Correlation Coefficient)\n",
    "\n",
    "#9 — Balanced Accuracy\n",
    "\n",
    "#10 — Log Loss (or Cross Entropy or Negative Log-Likelihood)\n",
    "\n",
    "#11 — AUCROC (Area Under the Receiver Operating Characteristic Curve)"
   ]
  },
  {
   "cell_type": "markdown",
   "id": "7b701a9c",
   "metadata": {},
   "source": [
    "test_df = pd.read_csv('rossmann-store-sales/test.csv')\n",
    "\n",
    "merged_test_df = test_df.merge(store_df, how='left', on='Store') \n",
    "\n",
    "merged_df.duplicated().sum()"
   ]
  },
  {
   "cell_type": "code",
   "execution_count": null,
   "id": "3daa4142",
   "metadata": {},
   "outputs": [],
   "source": []
  },
  {
   "cell_type": "code",
   "execution_count": null,
   "id": "361bf387",
   "metadata": {},
   "outputs": [],
   "source": []
  }
 ],
 "metadata": {
  "kernelspec": {
   "display_name": "Python 3 (ipykernel)",
   "language": "python",
   "name": "python3"
  },
  "language_info": {
   "codemirror_mode": {
    "name": "ipython",
    "version": 3
   },
   "file_extension": ".py",
   "mimetype": "text/x-python",
   "name": "python",
   "nbconvert_exporter": "python",
   "pygments_lexer": "ipython3",
   "version": "3.11.4"
  }
 },
 "nbformat": 4,
 "nbformat_minor": 5
}
